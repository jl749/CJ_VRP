{
 "cells": [
  {
   "cell_type": "markdown",
   "metadata": {
    "colab_type": "text",
    "id": "view-in-github"
   },
   "source": [
    "<a href=\"https://colab.research.google.com/github/jl749/CJ_VRP/blob/master/JM/final_script.ipynb\" target=\"_parent\"><img src=\"https://colab.research.google.com/assets/colab-badge.svg\" alt=\"Open In Colab\"/></a>"
   ]
  },
  {
   "cell_type": "code",
   "execution_count": null,
   "metadata": {
    "colab": {
     "base_uri": "https://localhost:8080/"
    },
    "id": "2cKC05dyEPQb",
    "outputId": "f648f42f-58e3-497c-827c-7b3c94b7cb20"
   },
   "outputs": [],
   "source": [
    "# from google.colab import drive\n",
    "import os\n",
    "\n",
    "# drive.mount('/gdrive/', force_remount=True)\n",
    "# PATH = \"/gdrive/MyDrive/CJ/2. 택배 배송 데이터/\"  # 택배 배송 데이터 PATH\n",
    "PATH = \"C:/Users/user/Desktop/CJ/2. 택배 배송 데이터/\"  # 택배 배송 데이터 PATH\n",
    "\n",
    "takbe_CSVs = os.listdir(PATH)\n",
    "\n",
    "takbe_CSVs"
   ]
  },
  {
   "cell_type": "code",
   "execution_count": null,
   "metadata": {
    "id": "A9b8BBnnGJm_"
   },
   "outputs": [],
   "source": [
    "import pandas as pd\n",
    "\n",
    "df1 = pd.read_excel(PATH + takbe_CSVs[0])\n",
    "df2 = pd.read_excel(PATH + takbe_CSVs[1])\n",
    "df3 = pd.read_excel(PATH + takbe_CSVs[2])\n",
    "df4 = pd.read_excel(PATH + takbe_CSVs[3])\n",
    "df5 = pd.read_excel(PATH + takbe_CSVs[4])\n",
    "df6 = pd.read_excel(PATH + takbe_CSVs[5])\n",
    "df7 = pd.read_excel(PATH + takbe_CSVs[6])\n",
    "df8 = pd.read_excel(PATH + takbe_CSVs[7])\n",
    "df9 = pd.read_excel(PATH + takbe_CSVs[8])\n",
    "df10 = pd.read_excel(PATH + takbe_CSVs[9])\n",
    "df11 = pd.read_excel(PATH + takbe_CSVs[10])\n",
    "df12 = pd.read_excel(PATH + takbe_CSVs[11])\n",
    "df13 = pd.read_excel(PATH + takbe_CSVs[12])\n",
    "df14 = pd.read_excel(PATH + takbe_CSVs[13])\n",
    "\n",
    "df_all = pd.concat([df1, df2, df3, df4, df5, df6, df7, df8, df9, df10, df11, df12, df13, df14])"
   ]
  },
  {
   "cell_type": "code",
   "execution_count": null,
   "metadata": {
    "colab": {
     "base_uri": "https://localhost:8080/",
     "height": 143
    },
    "id": "LHriCYpYSlqa",
    "outputId": "f0d8f718-9cc0-47d1-9fc6-db526593f0a4"
   },
   "outputs": [],
   "source": [
    "df_all.head(3)"
   ]
  },
  {
   "cell_type": "code",
   "execution_count": null,
   "metadata": {
    "id": "68pAstgOTas1"
   },
   "outputs": [],
   "source": [
    "df = df_all.drop(['Unnamed: 0', '구분명', '집화일자', '집배일자', '운임명', '집화여부', '집배일자', '장비구분', '품목'], axis=1)"
   ]
  },
  {
   "cell_type": "code",
   "execution_count": null,
   "metadata": {
    "colab": {
     "base_uri": "https://localhost:8080/",
     "height": 143
    },
    "id": "a5b2a6zXTyhg",
    "outputId": "5a13e091-1b4b-4212-c9f6-6490df8fc361"
   },
   "outputs": [],
   "source": [
    "df.head(3)"
   ]
  },
  {
   "cell_type": "markdown",
   "metadata": {
    "id": "rrrkmYvQT6Jc"
   },
   "source": [
    "# SM groupby 로 택배 용량 확인"
   ]
  },
  {
   "cell_type": "code",
   "execution_count": null,
   "metadata": {
    "colab": {
     "base_uri": "https://localhost:8080/",
     "height": 455
    },
    "id": "You0TXlzT2xv",
    "outputId": "3f934004-2472-465e-c32f-6e1f1db5cea0"
   },
   "outputs": [],
   "source": [
    "df_SM = df[['SM명', '배달일자', '수량(BOX)', '운임']].groupby(['SM명', '배달일자']).sum()\n",
    "df_SM['val'] = df_SM['운임'] / df_SM['수량(BOX)']\n",
    "df_SM"
   ]
  },
  {
   "cell_type": "code",
   "execution_count": 9,
   "metadata": {
    "id": "EvzEqOEG5ws2"
   },
   "outputs": [],
   "source": [
    "# df_SM[(0, '2021-03-02')]"
   ]
  },
  {
   "cell_type": "code",
   "execution_count": null,
   "metadata": {
    "colab": {
     "base_uri": "https://localhost:8080/"
    },
    "id": "9P87TmTqZSoc",
    "outputId": "f5fc8356-b102-4085-a9ad-6047e9b6f2d7"
   },
   "outputs": [],
   "source": [
    "df_SM.index"
   ]
  },
  {
   "cell_type": "code",
   "execution_count": null,
   "metadata": {
    "colab": {
     "base_uri": "https://localhost:8080/",
     "height": 575
    },
    "id": "4g66wNUIVkih",
    "outputId": "7781a527-4cc1-44ea-9dff-37dd8e37edf5"
   },
   "outputs": [],
   "source": [
    "import matplotlib.pyplot as plt\n",
    "\n",
    "df_SM.plot(figsize=(30,10), kind='bar', y='val')\n",
    "plt.axis('off')\n",
    "plt.show()"
   ]
  },
  {
   "cell_type": "code",
   "execution_count": null,
   "metadata": {
    "colab": {
     "base_uri": "https://localhost:8080/",
     "height": 143
    },
    "id": "Iw1ehVLf8TPz",
    "outputId": "5b5acb0c-e8fa-470f-9bf3-100843919045"
   },
   "outputs": [],
   "source": [
    "df.head(3)"
   ]
  },
  {
   "cell_type": "code",
   "execution_count": null,
   "metadata": {
    "id": "BeKC82IvWxkp"
   },
   "outputs": [],
   "source": [
    "import re\n",
    "\n",
    "def if_integer(string):\n",
    "    if bool(re.search(r'(\\d+)\\s*-\\s*(\\d+)', string)) or bool(re.search(r'(\\d+)', string)):\n",
    "        return True\n",
    "    return False"
   ]
  },
  {
   "cell_type": "code",
   "execution_count": null,
   "metadata": {
    "id": "Bu-0gLD53l1k"
   },
   "outputs": [],
   "source": [
    "df = df.dropna(axis = 0)"
   ]
  },
  {
   "cell_type": "code",
   "execution_count": null,
   "metadata": {
    "colab": {
     "base_uri": "https://localhost:8080/",
     "height": 424
    },
    "id": "a5Sdjzgf7jHn",
    "outputId": "caff4995-088f-4847-c686-8bba0621ab05"
   },
   "outputs": [],
   "source": [
    "df = df[df.받는분주소.apply(if_integer)]\n",
    "df"
   ]
  },
  {
   "cell_type": "markdown",
   "metadata": {
    "id": "YsvyczDSaQEi"
   },
   "source": [
    "#사용가능한 주소 추출"
   ]
  },
  {
   "cell_type": "code",
   "execution_count": null,
   "metadata": {
    "id": "5kTvVL-5SYxL"
   },
   "outputs": [],
   "source": [
    "def remwithre(text, there=re.compile(re.escape('(')+'.*')):\n",
    "  return there.sub('', text)"
   ]
  },
  {
   "cell_type": "code",
   "execution_count": null,
   "metadata": {
    "colab": {
     "base_uri": "https://localhost:8080/",
     "height": 424
    },
    "id": "_QVwXWFwTvIZ",
    "outputId": "82e99744-14f4-48aa-ab20-6fca42898728"
   },
   "outputs": [],
   "source": [
    "df['받는분주소'] = df['받는분주소'].apply(remwithre)\n",
    "df"
   ]
  },
  {
   "cell_type": "code",
   "execution_count": null,
   "metadata": {
    "id": "Gat6MJL54zOP"
   },
   "outputs": [],
   "source": [
    "df.reset_index(inplace=True)\n",
    "del df['index']"
   ]
  },
  {
   "cell_type": "code",
   "execution_count": null,
   "metadata": {
    "id": "MNyG-oSa-uZg"
   },
   "outputs": [],
   "source": [
    "df"
   ]
  },
  {
   "cell_type": "code",
   "execution_count": null,
   "metadata": {
    "id": "WrhHrpsw4s4X"
   },
   "outputs": [],
   "source": [
    "from urllib.parse import quote_plus, urlencode\n",
    "from urllib.request import urlopen, Request\n",
    "import time\n",
    "import json\n",
    "\n",
    "def jusoAPI(keystr):\n",
    "  url = 'http://www.juso.go.kr/addrlink/addrLinkApi.do'\n",
    "  queryParams = '?' + urlencode(\n",
    "      {quote_plus('currentPage'): '1', quote_plus('countPerPage'): '1', quote_plus('resultType'): 'json',\n",
    "      quote_plus('keyword'): keystr, quote_plus('confmKey'): 'devU01TX0FVVEgyMDIxMTAwMjIzNDkxMzExMTcxNDg='})\n",
    "  request = Request(url + queryParams)\n",
    "  request.get_method = lambda: 'GET'  # default GET anyway\n",
    "  while True:\n",
    "    try:\n",
    "        response_body = urlopen(request).read()\n",
    "    except:\n",
    "        print(f\"CONNECTION ERR ..... retry after 60sec\")\n",
    "        time.sleep(60)\n",
    "        continue\n",
    "    break\n",
    "\n",
    "  root_json = json.loads(response_body)\n",
    "  total = root_json['results']['common']['totalCount']\n",
    "\n",
    "  if total == '1':\n",
    "    ad = root_json['results']['juso'][0]\n",
    "    return ad['jibunAddr'], ad['roadAddr']  # ['detBdNmList']\n",
    "  else:\n",
    "    return None"
   ]
  },
  {
   "cell_type": "code",
   "execution_count": null,
   "metadata": {
    "colab": {
     "base_uri": "https://localhost:8080/",
     "height": 465
    },
    "id": "lexOLBdzq4dh",
    "outputId": "d566ba3a-643c-496b-9b82-694ff24aa7b0",
    "scrolled": true
   },
   "outputs": [],
   "source": [
    "jibun = pd.Series( data = [None] * df.shape[0] )\n",
    "road = pd.Series( data = [None] * df.shape[0] )\n",
    "\n",
    "index = 0\n",
    "for ad in df['받는분주소']:\n",
    "    tmp = jusoAPI(ad)\n",
    "    if tmp is not None:\n",
    "      jibun[index] = tmp[0]\n",
    "      road[index] = tmp[1]\n",
    "    else:\n",
    "      arr = ad.split()\n",
    "      count = 1\n",
    "      while len(arr[ : -count]) > 2:\n",
    "        tmp = jusoAPI(\" \".join(arr[ : -count]))\n",
    "        if tmp is not None:\n",
    "          jibun[index] = tmp[0]\n",
    "          road[index] = tmp[1]\n",
    "          break\n",
    "        time.sleep(0.1)\n",
    "        count += 1\n",
    "    index += 1\n",
    "    print(f\"index {index} succeed\")\n",
    "\n",
    "print(jibun)\n",
    "print(road)"
   ]
  },
  {
   "cell_type": "code",
   "execution_count": 50,
   "metadata": {
    "colab": {
     "base_uri": "https://localhost:8080/"
    },
    "id": "ADa7m9PXJJCn",
    "outputId": "8e1364f5-cc36-4f9a-8de7-186f0d3b5bb9"
   },
   "outputs": [
    {
     "data": {
      "text/plain": [
       "(0     경기도 화성시 장안면 석포리 718-106\n",
       " 1      경기도 화성시 장안면 석포리 785-14\n",
       " 2       경기도 화성시 장안면 석포리 334-1\n",
       " 3      경기도 화성시 장안면 석포리 448-24\n",
       " 4       경기도 화성시 장안면 석포리 386-3\n",
       " 5      경기도 화성시 장안면 석포리 614-24\n",
       " 6         경기도 화성시 장안면 석포리 741\n",
       " 7      경기도 화성시 장안면 석포리 718-54\n",
       " 8     경기도 화성시 장안면 석포리 718-116\n",
       " 9     경기도 화성시 장안면 석포리 718-134\n",
       " 10      경기도 화성시 장안면 석포리 564-3\n",
       " 11     경기도 화성시 장안면 석포리 675-15\n",
       " 12      경기도 화성시 장안면 석포리 675-3\n",
       " 13      경기도 화성시 장안면 석포리 406-1\n",
       " 14     경기도 화성시 장안면 석포리 718-12\n",
       " 15      경기도 화성시 장안면 석포리 614-4\n",
       " 16      경기도 화성시 장안면 석포리 771-1\n",
       " 17     경기도 화성시 장안면 석포리 763-17\n",
       " 18       경기도 화성시 장안면 석포리 59-3\n",
       " 19    경기도 화성시 장안면 석포리 785-242\n",
       " dtype: object, 0         경기도 화성시 장안면 매바위로366번길 8\n",
       " 1            경기도 화성시 장안면 매바위로 347\n",
       " 2          경기도 화성시 장안면 버들로 1232-4\n",
       " 3           경기도 화성시 장안면 무봉길 200-6\n",
       " 4         경기도 화성시 장안면 소개무골길 66-10\n",
       " 5          경기도 화성시 장안면 돌서지길 96-27\n",
       " 6           경기도 화성시 장안면 돌서지길 28-7\n",
       " 7            경기도 화성시 장안면 매바위로 376\n",
       " 8     경기도 화성시 장안면 매바위로366번길 68-13\n",
       " 9        경기도 화성시 장안면 매바위로366번길 25\n",
       " 10         경기도 화성시 장안면 무봉길 174-32\n",
       " 11             경기도 화성시 장안면 석포로 57\n",
       " 12           경기도 화성시 장안면 돌서지길 144\n",
       " 13         경기도 화성시 장안면 버들로 1201-3\n",
       " 14    경기도 화성시 장안면 매바위로366번길 33-25\n",
       " 15         경기도 화성시 장안면 돌서지길 96-28\n",
       " 16         경기도 화성시 장안면 석포로 348-18\n",
       " 17          경기도 화성시 장안면 석포로 330-7\n",
       " 18         경기도 화성시 장안면 산운내길 58-13\n",
       " 19        경기도 화성시 장안면 석포공단길 24-27\n",
       " dtype: object)"
      ]
     },
     "execution_count": 50,
     "metadata": {},
     "output_type": "execute_result"
    }
   ],
   "source": [
    "jibun[:20], road[:20]"
   ]
  },
  {
   "cell_type": "code",
   "execution_count": 31,
   "metadata": {
    "colab": {
     "base_uri": "https://localhost:8080/",
     "height": 424
    },
    "id": "Fds0KGKKAnc3",
    "outputId": "be439915-a16d-4f13-ab9f-7db5b908fa22"
   },
   "outputs": [
    {
     "data": {
      "text/html": [
       "<div>\n",
       "<style scoped>\n",
       "    .dataframe tbody tr th:only-of-type {\n",
       "        vertical-align: middle;\n",
       "    }\n",
       "\n",
       "    .dataframe tbody tr th {\n",
       "        vertical-align: top;\n",
       "    }\n",
       "\n",
       "    .dataframe thead th {\n",
       "        text-align: right;\n",
       "    }\n",
       "</style>\n",
       "<table border=\"1\" class=\"dataframe\">\n",
       "  <thead>\n",
       "    <tr style=\"text-align: right;\">\n",
       "      <th></th>\n",
       "      <th>수량(BOX)</th>\n",
       "      <th>운임</th>\n",
       "      <th>집배시간</th>\n",
       "      <th>배달일자</th>\n",
       "      <th>SM명</th>\n",
       "      <th>받는분주소</th>\n",
       "      <th>지번</th>\n",
       "      <th>도로명주소</th>\n",
       "    </tr>\n",
       "  </thead>\n",
       "  <tbody>\n",
       "    <tr>\n",
       "      <th>0</th>\n",
       "      <td>1</td>\n",
       "      <td>5000</td>\n",
       "      <td>190148</td>\n",
       "      <td>2021-03-03</td>\n",
       "      <td>57</td>\n",
       "      <td>경기도 화성시 장안면 매바위로366번길 8</td>\n",
       "      <td>경기도 화성시 장안면 석포리 718-106</td>\n",
       "      <td>경기도 화성시 장안면 매바위로366번길 8</td>\n",
       "    </tr>\n",
       "    <tr>\n",
       "      <th>1</th>\n",
       "      <td>1</td>\n",
       "      <td>3500</td>\n",
       "      <td>180605</td>\n",
       "      <td>2021-03-04</td>\n",
       "      <td>57</td>\n",
       "      <td>경기도 화성시 장안면 매바위로 347</td>\n",
       "      <td>경기도 화성시 장안면 석포리 785-14</td>\n",
       "      <td>경기도 화성시 장안면 매바위로 347</td>\n",
       "    </tr>\n",
       "    <tr>\n",
       "      <th>2</th>\n",
       "      <td>1</td>\n",
       "      <td>3500</td>\n",
       "      <td>175052</td>\n",
       "      <td>2021-03-05</td>\n",
       "      <td>57</td>\n",
       "      <td>경기도 화성시 장안면 버들로 1232-4</td>\n",
       "      <td>경기도 화성시 장안면 석포리 334-1</td>\n",
       "      <td>경기도 화성시 장안면 버들로 1232-4</td>\n",
       "    </tr>\n",
       "    <tr>\n",
       "      <th>3</th>\n",
       "      <td>1</td>\n",
       "      <td>5000</td>\n",
       "      <td>121446</td>\n",
       "      <td>2021-03-08</td>\n",
       "      <td>57</td>\n",
       "      <td>경기 화성시 장안면 무봉길 200-6</td>\n",
       "      <td>경기도 화성시 장안면 석포리 448-24</td>\n",
       "      <td>경기도 화성시 장안면 무봉길 200-6</td>\n",
       "    </tr>\n",
       "    <tr>\n",
       "      <th>4</th>\n",
       "      <td>1</td>\n",
       "      <td>5000</td>\n",
       "      <td>180605</td>\n",
       "      <td>2021-03-04</td>\n",
       "      <td>57</td>\n",
       "      <td>경기도 화성시 장안면 소개무골길 66-10</td>\n",
       "      <td>경기도 화성시 장안면 석포리 386-3</td>\n",
       "      <td>경기도 화성시 장안면 소개무골길 66-10</td>\n",
       "    </tr>\n",
       "    <tr>\n",
       "      <th>...</th>\n",
       "      <td>...</td>\n",
       "      <td>...</td>\n",
       "      <td>...</td>\n",
       "      <td>...</td>\n",
       "      <td>...</td>\n",
       "      <td>...</td>\n",
       "      <td>...</td>\n",
       "      <td>...</td>\n",
       "    </tr>\n",
       "    <tr>\n",
       "      <th>4037719</th>\n",
       "      <td>1</td>\n",
       "      <td>2500</td>\n",
       "      <td>113256</td>\n",
       "      <td>2021-04-29</td>\n",
       "      <td>170</td>\n",
       "      <td>경기 화성시 봉담읍 상봉길 35-7</td>\n",
       "      <td>None</td>\n",
       "      <td>None</td>\n",
       "    </tr>\n",
       "    <tr>\n",
       "      <th>4037720</th>\n",
       "      <td>1</td>\n",
       "      <td>2500</td>\n",
       "      <td>155117</td>\n",
       "      <td>2021-04-28</td>\n",
       "      <td>170</td>\n",
       "      <td>[183-16] 경기도 화성시 봉담읍 상봉길 35-10</td>\n",
       "      <td>None</td>\n",
       "      <td>None</td>\n",
       "    </tr>\n",
       "    <tr>\n",
       "      <th>4037721</th>\n",
       "      <td>1</td>\n",
       "      <td>6000</td>\n",
       "      <td>152249</td>\n",
       "      <td>2021-04-29</td>\n",
       "      <td>170</td>\n",
       "      <td>경기 화성시 봉담읍 샘마을1길 35-3</td>\n",
       "      <td>None</td>\n",
       "      <td>None</td>\n",
       "    </tr>\n",
       "    <tr>\n",
       "      <th>4037722</th>\n",
       "      <td>1</td>\n",
       "      <td>2500</td>\n",
       "      <td>111242</td>\n",
       "      <td>2021-04-27</td>\n",
       "      <td>170</td>\n",
       "      <td>경기 화성시 봉담읍 상봉길 35-17 써니빌4</td>\n",
       "      <td>None</td>\n",
       "      <td>None</td>\n",
       "    </tr>\n",
       "    <tr>\n",
       "      <th>4037723</th>\n",
       "      <td>1</td>\n",
       "      <td>2500</td>\n",
       "      <td>121834</td>\n",
       "      <td>2021-04-28</td>\n",
       "      <td>170</td>\n",
       "      <td>경기도 화성시 봉담읍 상봉길 35-10</td>\n",
       "      <td>None</td>\n",
       "      <td>None</td>\n",
       "    </tr>\n",
       "  </tbody>\n",
       "</table>\n",
       "<p>4037724 rows × 8 columns</p>\n",
       "</div>"
      ],
      "text/plain": [
       "         수량(BOX)    운임    집배시간       배달일자  SM명  \\\n",
       "0              1  5000  190148 2021-03-03   57   \n",
       "1              1  3500  180605 2021-03-04   57   \n",
       "2              1  3500  175052 2021-03-05   57   \n",
       "3              1  5000  121446 2021-03-08   57   \n",
       "4              1  5000  180605 2021-03-04   57   \n",
       "...          ...   ...     ...        ...  ...   \n",
       "4037719        1  2500  113256 2021-04-29  170   \n",
       "4037720        1  2500  155117 2021-04-28  170   \n",
       "4037721        1  6000  152249 2021-04-29  170   \n",
       "4037722        1  2500  111242 2021-04-27  170   \n",
       "4037723        1  2500  121834 2021-04-28  170   \n",
       "\n",
       "                                   받는분주소                       지번  \\\n",
       "0               경기도 화성시 장안면 매바위로366번길 8   경기도 화성시 장안면 석포리 718-106   \n",
       "1                   경기도 화성시 장안면 매바위로 347   경기도 화성시 장안면 석포리 785-14   \n",
       "2                 경기도 화성시 장안면 버들로 1232-4    경기도 화성시 장안면 석포리 334-1   \n",
       "3                   경기 화성시 장안면 무봉길 200-6   경기도 화성시 장안면 석포리 448-24   \n",
       "4                경기도 화성시 장안면 소개무골길 66-10    경기도 화성시 장안면 석포리 386-3   \n",
       "...                                  ...                      ...   \n",
       "4037719              경기 화성시 봉담읍 상봉길 35-7                     None   \n",
       "4037720  [183-16] 경기도 화성시 봉담읍 상봉길 35-10                      None   \n",
       "4037721            경기 화성시 봉담읍 샘마을1길 35-3                     None   \n",
       "4037722        경기 화성시 봉담읍 상봉길 35-17 써니빌4                     None   \n",
       "4037723           경기도 화성시 봉담읍 상봉길 35-10                      None   \n",
       "\n",
       "                           도로명주소  \n",
       "0        경기도 화성시 장안면 매바위로366번길 8  \n",
       "1           경기도 화성시 장안면 매바위로 347  \n",
       "2         경기도 화성시 장안면 버들로 1232-4  \n",
       "3          경기도 화성시 장안면 무봉길 200-6  \n",
       "4        경기도 화성시 장안면 소개무골길 66-10  \n",
       "...                          ...  \n",
       "4037719                     None  \n",
       "4037720                     None  \n",
       "4037721                     None  \n",
       "4037722                     None  \n",
       "4037723                     None  \n",
       "\n",
       "[4037724 rows x 8 columns]"
      ]
     },
     "execution_count": 31,
     "metadata": {},
     "output_type": "execute_result"
    }
   ],
   "source": [
    "df['지번'] = jibun\n",
    "df['도로명주소'] = road\n",
    "df"
   ]
  },
  {
   "cell_type": "code",
   "execution_count": 32,
   "metadata": {
    "colab": {
     "base_uri": "https://localhost:8080/",
     "height": 424
    },
    "id": "3PeHrm842omj",
    "outputId": "b055e589-e17f-401a-cdc9-0992779eb66b"
   },
   "outputs": [
    {
     "data": {
      "text/html": [
       "<div>\n",
       "<style scoped>\n",
       "    .dataframe tbody tr th:only-of-type {\n",
       "        vertical-align: middle;\n",
       "    }\n",
       "\n",
       "    .dataframe tbody tr th {\n",
       "        vertical-align: top;\n",
       "    }\n",
       "\n",
       "    .dataframe thead th {\n",
       "        text-align: right;\n",
       "    }\n",
       "</style>\n",
       "<table border=\"1\" class=\"dataframe\">\n",
       "  <thead>\n",
       "    <tr style=\"text-align: right;\">\n",
       "      <th></th>\n",
       "      <th>수량(BOX)</th>\n",
       "      <th>운임</th>\n",
       "      <th>집배시간</th>\n",
       "      <th>배달일자</th>\n",
       "      <th>SM명</th>\n",
       "      <th>받는분주소</th>\n",
       "      <th>지번</th>\n",
       "      <th>도로명주소</th>\n",
       "    </tr>\n",
       "  </thead>\n",
       "  <tbody>\n",
       "    <tr>\n",
       "      <th>0</th>\n",
       "      <td>1</td>\n",
       "      <td>5000</td>\n",
       "      <td>190148</td>\n",
       "      <td>2021-03-03</td>\n",
       "      <td>57</td>\n",
       "      <td>경기도 화성시 장안면 매바위로366번길 8</td>\n",
       "      <td>경기도 화성시 장안면 석포리 718-106</td>\n",
       "      <td>경기도 화성시 장안면 매바위로366번길 8</td>\n",
       "    </tr>\n",
       "    <tr>\n",
       "      <th>1</th>\n",
       "      <td>1</td>\n",
       "      <td>3500</td>\n",
       "      <td>180605</td>\n",
       "      <td>2021-03-04</td>\n",
       "      <td>57</td>\n",
       "      <td>경기도 화성시 장안면 매바위로 347</td>\n",
       "      <td>경기도 화성시 장안면 석포리 785-14</td>\n",
       "      <td>경기도 화성시 장안면 매바위로 347</td>\n",
       "    </tr>\n",
       "    <tr>\n",
       "      <th>2</th>\n",
       "      <td>1</td>\n",
       "      <td>3500</td>\n",
       "      <td>175052</td>\n",
       "      <td>2021-03-05</td>\n",
       "      <td>57</td>\n",
       "      <td>경기도 화성시 장안면 버들로 1232-4</td>\n",
       "      <td>경기도 화성시 장안면 석포리 334-1</td>\n",
       "      <td>경기도 화성시 장안면 버들로 1232-4</td>\n",
       "    </tr>\n",
       "    <tr>\n",
       "      <th>3</th>\n",
       "      <td>1</td>\n",
       "      <td>5000</td>\n",
       "      <td>121446</td>\n",
       "      <td>2021-03-08</td>\n",
       "      <td>57</td>\n",
       "      <td>경기 화성시 장안면 무봉길 200-6</td>\n",
       "      <td>경기도 화성시 장안면 석포리 448-24</td>\n",
       "      <td>경기도 화성시 장안면 무봉길 200-6</td>\n",
       "    </tr>\n",
       "    <tr>\n",
       "      <th>4</th>\n",
       "      <td>1</td>\n",
       "      <td>5000</td>\n",
       "      <td>180605</td>\n",
       "      <td>2021-03-04</td>\n",
       "      <td>57</td>\n",
       "      <td>경기도 화성시 장안면 소개무골길 66-10</td>\n",
       "      <td>경기도 화성시 장안면 석포리 386-3</td>\n",
       "      <td>경기도 화성시 장안면 소개무골길 66-10</td>\n",
       "    </tr>\n",
       "    <tr>\n",
       "      <th>...</th>\n",
       "      <td>...</td>\n",
       "      <td>...</td>\n",
       "      <td>...</td>\n",
       "      <td>...</td>\n",
       "      <td>...</td>\n",
       "      <td>...</td>\n",
       "      <td>...</td>\n",
       "      <td>...</td>\n",
       "    </tr>\n",
       "    <tr>\n",
       "      <th>8209</th>\n",
       "      <td>1</td>\n",
       "      <td>5000</td>\n",
       "      <td>185424</td>\n",
       "      <td>2021-03-04</td>\n",
       "      <td>200</td>\n",
       "      <td>경기도 화성시 기안동 457-54</td>\n",
       "      <td>경기도 화성시 기안동 457-54</td>\n",
       "      <td>경기도 화성시 융건로 47-14(기안동)</td>\n",
       "    </tr>\n",
       "    <tr>\n",
       "      <th>8210</th>\n",
       "      <td>1</td>\n",
       "      <td>5000</td>\n",
       "      <td>191125</td>\n",
       "      <td>2021-03-03</td>\n",
       "      <td>200</td>\n",
       "      <td>경기도 화성시 배양남길40번길 19</td>\n",
       "      <td>경기도 화성시 기안동 20-185</td>\n",
       "      <td>경기도 화성시 배양남길40번길 19(기안동)</td>\n",
       "    </tr>\n",
       "    <tr>\n",
       "      <th>8211</th>\n",
       "      <td>1</td>\n",
       "      <td>3500</td>\n",
       "      <td>194004</td>\n",
       "      <td>2021-03-04</td>\n",
       "      <td>200</td>\n",
       "      <td>경기도 화성시 융건로140번길 3-3</td>\n",
       "      <td>경기도 화성시 배양동 69-48</td>\n",
       "      <td>경기도 화성시 융건로140번길 3-3(배양동)</td>\n",
       "    </tr>\n",
       "    <tr>\n",
       "      <th>8212</th>\n",
       "      <td>1</td>\n",
       "      <td>6000</td>\n",
       "      <td>190736</td>\n",
       "      <td>2021-03-06</td>\n",
       "      <td>200</td>\n",
       "      <td>경기도 화성시 융건로 90</td>\n",
       "      <td>경기도 화성시 배양동 76 배양초등학교</td>\n",
       "      <td>경기도 화성시 융건로 90(배양동)</td>\n",
       "    </tr>\n",
       "    <tr>\n",
       "      <th>8213</th>\n",
       "      <td>1</td>\n",
       "      <td>2500</td>\n",
       "      <td>195526</td>\n",
       "      <td>2021-03-04</td>\n",
       "      <td>200</td>\n",
       "      <td>경기도 화성시 융건로 182-2</td>\n",
       "      <td>경기도 화성시 배양동 65-35</td>\n",
       "      <td>경기도 화성시 융건로 182-2(배양동)</td>\n",
       "    </tr>\n",
       "  </tbody>\n",
       "</table>\n",
       "<p>6234 rows × 8 columns</p>\n",
       "</div>"
      ],
      "text/plain": [
       "      수량(BOX)    운임    집배시간       배달일자  SM명                     받는분주소  \\\n",
       "0           1  5000  190148 2021-03-03   57  경기도 화성시 장안면 매바위로366번길 8    \n",
       "1           1  3500  180605 2021-03-04   57      경기도 화성시 장안면 매바위로 347   \n",
       "2           1  3500  175052 2021-03-05   57    경기도 화성시 장안면 버들로 1232-4   \n",
       "3           1  5000  121446 2021-03-08   57      경기 화성시 장안면 무봉길 200-6   \n",
       "4           1  5000  180605 2021-03-04   57   경기도 화성시 장안면 소개무골길 66-10   \n",
       "...       ...   ...     ...        ...  ...                       ...   \n",
       "8209        1  5000  185424 2021-03-04  200        경기도 화성시 기안동 457-54   \n",
       "8210        1  5000  191125 2021-03-03  200       경기도 화성시 배양남길40번길 19   \n",
       "8211        1  3500  194004 2021-03-04  200      경기도 화성시 융건로140번길 3-3   \n",
       "8212        1  6000  190736 2021-03-06  200           경기도 화성시 융건로 90    \n",
       "8213        1  2500  195526 2021-03-04  200         경기도 화성시 융건로 182-2   \n",
       "\n",
       "                           지번                      도로명주소  \n",
       "0     경기도 화성시 장안면 석포리 718-106    경기도 화성시 장안면 매바위로366번길 8  \n",
       "1      경기도 화성시 장안면 석포리 785-14       경기도 화성시 장안면 매바위로 347  \n",
       "2       경기도 화성시 장안면 석포리 334-1     경기도 화성시 장안면 버들로 1232-4  \n",
       "3      경기도 화성시 장안면 석포리 448-24      경기도 화성시 장안면 무봉길 200-6  \n",
       "4       경기도 화성시 장안면 석포리 386-3    경기도 화성시 장안면 소개무골길 66-10  \n",
       "...                       ...                        ...  \n",
       "8209       경기도 화성시 기안동 457-54     경기도 화성시 융건로 47-14(기안동)  \n",
       "8210       경기도 화성시 기안동 20-185   경기도 화성시 배양남길40번길 19(기안동)  \n",
       "8211        경기도 화성시 배양동 69-48  경기도 화성시 융건로140번길 3-3(배양동)  \n",
       "8212    경기도 화성시 배양동 76 배양초등학교        경기도 화성시 융건로 90(배양동)  \n",
       "8213        경기도 화성시 배양동 65-35     경기도 화성시 융건로 182-2(배양동)  \n",
       "\n",
       "[6234 rows x 8 columns]"
      ]
     },
     "execution_count": 32,
     "metadata": {},
     "output_type": "execute_result"
    }
   ],
   "source": [
    "df.dropna()"
   ]
  },
  {
   "cell_type": "code",
   "execution_count": null,
   "metadata": {
    "id": "lC2-CCIN-WZ1"
   },
   "outputs": [],
   "source": [
    "df.to_excel(\"address_PREPROCESSED.xlsx\")"
   ]
  },
  {
   "cell_type": "code",
   "execution_count": null,
   "metadata": {
    "id": "Mp_bCPxY_Fjn"
   },
   "outputs": [],
   "source": []
  }
 ],
 "metadata": {
  "colab": {
   "collapsed_sections": [],
   "include_colab_link": true,
   "name": "final_script.ipynb",
   "provenance": []
  },
  "kernelspec": {
   "display_name": "Python 3",
   "language": "python",
   "name": "python3"
  },
  "language_info": {
   "codemirror_mode": {
    "name": "ipython",
    "version": 3
   },
   "file_extension": ".py",
   "mimetype": "text/x-python",
   "name": "python",
   "nbconvert_exporter": "python",
   "pygments_lexer": "ipython3",
   "version": "3.7.10"
  }
 },
 "nbformat": 4,
 "nbformat_minor": 1
}
