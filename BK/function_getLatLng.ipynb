{
  "nbformat": 4,
  "nbformat_minor": 0,
  "metadata": {
    "colab": {
      "name": "function_getLatLng",
      "provenance": [],
      "authorship_tag": "ABX9TyMaqr/axMohxZLbqXGmv+uL",
      "include_colab_link": true
    },
    "kernelspec": {
      "name": "python3",
      "display_name": "Python 3"
    },
    "language_info": {
      "name": "python"
    }
  },
  "cells": [
    {
      "cell_type": "markdown",
      "metadata": {
        "id": "view-in-github",
        "colab_type": "text"
      },
      "source": [
        "<a href=\"https://colab.research.google.com/github/jl749/CJ_VRP/blob/master/BK/function_getLatLng.ipynb\" target=\"_parent\"><img src=\"https://colab.research.google.com/assets/colab-badge.svg\" alt=\"Open In Colab\"/></a>"
      ]
    },
    {
      "cell_type": "code",
      "metadata": {
        "id": "yqH9k9tpTzR1"
      },
      "source": [
        "import json\n",
        "def getLatLng(addr):\n",
        "    url = 'https://dapi.kakao.com/v2/local/search/address.json?query=' + addr\n",
        "    headers = {\"Authorization\": \"KakaoAK a11962d0038edfb6f73799c64cf008db\"} # \"Authorization\": \"KakaoAK (카카오 Rest api)\"\n",
        "\t\n",
        "    result = json.loads(str(requests.get(url, headers=headers).text))\n",
        "    status_code = requests.get(url, headers=headers).status_code\n",
        "    if status_code != 200:  # 정상적으로 요청이 들어가지 않았을 때\n",
        "        print(f\"ERROR: Unable to call rest api, http_status_coe: {status_code}\")\n",
        "        return 0\n",
        "\n",
        "    try:\n",
        "        match_first = result['documents'][0]['address']\n",
        "        lon = match_first['x']\n",
        "        lat = match_first['y']\n",
        "\n",
        "        return lon, lat\n",
        "    except IndexError: # match값이 없을 때\n",
        "        return 0\n",
        "    except TypeError: # match값이 2개 이상일 때\n",
        "        return 0"
      ],
      "execution_count": null,
      "outputs": []
    },
    {
      "cell_type": "code",
      "metadata": {
        "id": "OoW2yw7tf-YR"
      },
      "source": [
        "# Selenium 설치\n",
        "!pip install Selenium\n",
        "!apt-get update # to update ubuntu to correctly run apt install\n",
        "!apt install chromium-chromedriver\n",
        "# 혹시 몰라서 한글 폰트도 설치\n",
        "!apt-get install -y fonts-nanum*"
      ],
      "execution_count": null,
      "outputs": []
    },
    {
      "cell_type": "code",
      "metadata": {
        "id": "ViN-tyVogFrB"
      },
      "source": [
        "from selenium import webdriver\n",
        "from selenium.webdriver.common.keys import Keys\n",
        "\n",
        "def get_latlng_by_selenium(addr):\n",
        "    chrome_options = webdriver.ChromeOptions()\n",
        "    chrome_options.add_argument('--headless')\n",
        "    chrome_options.add_argument('--no-sandbox')\n",
        "    chrome_options.add_argument('--disable-dev-shm-usage')\n",
        "\n",
        "    driver = webdriver.Chrome('chromedriver', chrome_options=chrome_options)\n",
        "    driver.get('https://jusoga.com/')\n",
        "    input_search = driver.find_element_by_class_name('form-control')\n",
        "    input_search.send_keys(addr)\n",
        "    input_search.send_keys(Keys.ENTER)\n",
        "    driver.find_element_by_css_selector('tbody tr td a').click()\n",
        "    lat = driver.find_element_by_xpath('/html/body/div[1]/table/tbody/tr[6]/td')\n",
        "    lng = driver.find_element_by_xpath('/html/body/div[1]/table/tbody/tr[7]/td')\n",
        "    return lat.text, lng.text"
      ],
      "execution_count": null,
      "outputs": []
    },
    {
      "cell_type": "code",
      "metadata": {
        "id": "hct2KlergKdx"
      },
      "source": [
        ""
      ],
      "execution_count": null,
      "outputs": []
    }
  ]
}