{
  "nbformat": 4,
  "nbformat_minor": 0,
  "metadata": {
    "colab": {
      "name": "address to node",
      "provenance": [],
      "mount_file_id": "1SdoiVJeM1LYUJUx53tZxDqflPkFyuSF7",
      "authorship_tag": "ABX9TyP1eVvqJVEJWkS7/s0QJHf9",
      "include_colab_link": true
    },
    "kernelspec": {
      "name": "python3",
      "display_name": "Python 3"
    },
    "language_info": {
      "name": "python"
    }
  },
  "cells": [
    {
      "cell_type": "markdown",
      "metadata": {
        "id": "view-in-github",
        "colab_type": "text"
      },
      "source": [
        "<a href=\"https://colab.research.google.com/github/jl749/CJ_VRP/blob/master/BK/address_to_node.ipynb\" target=\"_parent\"><img src=\"https://colab.research.google.com/assets/colab-badge.svg\" alt=\"Open In Colab\"/></a>"
      ]
    },
    {
      "cell_type": "code",
      "metadata": {
        "colab": {
          "base_uri": "https://localhost:8080/"
        },
        "id": "ld52o0qXclRM",
        "outputId": "31b94263-18e9-4e0c-9f2e-c71b70d22abd"
      },
      "source": [
        "import json\n",
        "import requests\n",
        "import pickle\n",
        "\n",
        "with open('cor_dict.pickle', 'rb') as f:\n",
        "    cor_dict = pickle.load(f)\n",
        "\n",
        "\n",
        "address = '경기도 화성시 남양동 646'\n",
        "\n",
        "def address_to_node(addr):\n",
        "    lat, lon = map(float, getLatLng(addr))\n",
        "    lon_gap = 0.0033806626098715348/2\n",
        "    lat_gap = 0.0027283023109409563/2\n",
        "    node_num = 0\n",
        "    for node, num in cor_dict.items():\n",
        "        if node[0] - lat_gap <= lat <= node[0] + lat_gap and node[1] - lon_gap <= lon <= node[1] +lon_gap:\n",
        "            node_num = num\n",
        "            break\n",
        "    return node_num\n",
        "\n",
        "\n",
        "def getLatLng(addr):\n",
        "    url = 'https://dapi.kakao.com/v2/local/search/address.json?query=' + addr\n",
        "    headers = {\"Authorization\": \"KakaoAK a11962d0038edfb6f73799c64cf008db\"}\n",
        "    result = json.loads(str(requests.get(url, headers=headers).text))\n",
        "    status_code = requests.get(url, headers=headers).status_code\n",
        "    if status_code != 200:\n",
        "        print(f\"ERROR: Unable to call rest api, http_status_coe: {status_code}\")\n",
        "        return 0\n",
        "\n",
        "    try:\n",
        "        match_first = result['documents'][0]['address']\n",
        "        lon = match_first['x']\n",
        "        lat = match_first['y']\n",
        "\n",
        "        return lat, lon\n",
        "    except IndexError: # match값이 없을때\n",
        "        return 0\n",
        "    except TypeError: # match값이 2개이상일때\n",
        "        return 0\n",
        "address_to_node(address)"
      ],
      "execution_count": 4,
      "outputs": [
        {
          "output_type": "execute_result",
          "data": {
            "text/plain": [
              "1986"
            ]
          },
          "metadata": {},
          "execution_count": 4
        }
      ]
    },
    {
      "cell_type": "code",
      "metadata": {
        "id": "w5kUR2LidH4j"
      },
      "source": [
        ""
      ],
      "execution_count": null,
      "outputs": []
    }
  ]
}