{
  "nbformat": 4,
  "nbformat_minor": 0,
  "metadata": {
    "colab": {
      "name": "final_script.ipynb",
      "provenance": [],
      "collapsed_sections": [],
      "include_colab_link": true
    },
    "kernelspec": {
      "name": "python3",
      "display_name": "Python 3"
    },
    "language_info": {
      "name": "python"
    }
  },
  "cells": [
    {
      "cell_type": "markdown",
      "metadata": {
        "id": "view-in-github",
        "colab_type": "text"
      },
      "source": [
        "<a href=\"https://colab.research.google.com/github/jl749/CJ_VRP/blob/master/HS/final_script.ipynb\" target=\"_parent\"><img src=\"https://colab.research.google.com/assets/colab-badge.svg\" alt=\"Open In Colab\"/></a>"
      ]
    },
    {
      "cell_type": "code",
      "metadata": {
        "colab": {
          "base_uri": "https://localhost:8080/"
        },
        "id": "2cKC05dyEPQb",
        "outputId": "b09510db-0b2f-4105-9bd7-23923db8ae2f"
      },
      "source": [
        "from google.colab import drive\n",
        "import os\n",
        "\n",
        "drive.mount('/gdrive/', force_remount=True)\n",
        "PATH = \"/gdrive/MyDrive/CJ_1/2. 택배 배송 데이터/\"  # 택배 배송 데이터 PATH\n",
        "takbe_CSVs = os.listdir(PATH)\n",
        "\n",
        "takbe_CSVs"
      ],
      "execution_count": null,
      "outputs": [
        {
          "output_type": "stream",
          "name": "stdout",
          "text": [
            "Mounted at /gdrive/\n"
          ]
        },
        {
          "output_type": "execute_result",
          "data": {
            "text/plain": [
              "['2-1. 택배 배송 데이터.xlsx',\n",
              " '2-2. 택배 배송 데이터.xlsx',\n",
              " '2-3. 택배 배송 데이터.xlsx',\n",
              " '2-4. 택배 배송 데이터.xlsx',\n",
              " '2-5. 택배 배송 데이터.xlsx',\n",
              " '2-6. 택배 배송 데이터.xlsx',\n",
              " '2-7. 택배 배송 데이터.xlsx',\n",
              " '2-8. 택배 배송 데이터.xlsx',\n",
              " '2-9. 택배 배송 데이터.xlsx',\n",
              " '2-10. 택배 배송 데이터.xlsx',\n",
              " '2-11. 택배 배송 데이터.xlsx',\n",
              " '2-12. 택배 배송 데이터.xlsx',\n",
              " '2-13. 택배 배송 데이터.xlsx',\n",
              " '2-14. 택배 배송 데이터.xlsx']"
            ]
          },
          "metadata": {},
          "execution_count": 1
        }
      ]
    },
    {
      "cell_type": "code",
      "metadata": {
        "id": "A9b8BBnnGJm_"
      },
      "source": [
        "import pandas as pd\n",
        "\n",
        "df1 = pd.read_excel(PATH + takbe_CSVs[0])\n",
        "df2 = pd.read_excel(PATH + takbe_CSVs[1])\n",
        "df3 = pd.read_excel(PATH + takbe_CSVs[2])\n",
        "df4 = pd.read_excel(PATH + takbe_CSVs[3])\n",
        "df5 = pd.read_excel(PATH + takbe_CSVs[4])\n",
        "df6 = pd.read_excel(PATH + takbe_CSVs[5])\n",
        "df7 = pd.read_excel(PATH + takbe_CSVs[6])\n",
        "df8 = pd.read_excel(PATH + takbe_CSVs[7])\n",
        "df9 = pd.read_excel(PATH + takbe_CSVs[8])\n",
        "df10 = pd.read_excel(PATH + takbe_CSVs[9])\n",
        "df11 = pd.read_excel(PATH + takbe_CSVs[10])\n",
        "df12 = pd.read_excel(PATH + takbe_CSVs[11])\n",
        "df13 = pd.read_excel(PATH + takbe_CSVs[12])\n",
        "df14 = pd.read_excel(PATH + takbe_CSVs[13])\n",
        "\n",
        "df_all = pd.concat([df1, df2, df3, df4, df5, df6, df7, df8, df9, df10, df11, df12, df13, df14])"
      ],
      "execution_count": null,
      "outputs": []
    },
    {
      "cell_type": "code",
      "metadata": {
        "colab": {
          "base_uri": "https://localhost:8080/",
          "height": 143
        },
        "id": "LHriCYpYSlqa",
        "outputId": "2a1feec9-6c0c-4fe0-f2f5-16c58b6aba39"
      },
      "source": [
        "df_all.head(3)"
      ],
      "execution_count": null,
      "outputs": [
        {
          "output_type": "execute_result",
          "data": {
            "text/html": [
              "<div>\n",
              "<style scoped>\n",
              "    .dataframe tbody tr th:only-of-type {\n",
              "        vertical-align: middle;\n",
              "    }\n",
              "\n",
              "    .dataframe tbody tr th {\n",
              "        vertical-align: top;\n",
              "    }\n",
              "\n",
              "    .dataframe thead th {\n",
              "        text-align: right;\n",
              "    }\n",
              "</style>\n",
              "<table border=\"1\" class=\"dataframe\">\n",
              "  <thead>\n",
              "    <tr style=\"text-align: right;\">\n",
              "      <th></th>\n",
              "      <th>Unnamed: 0</th>\n",
              "      <th>구분명</th>\n",
              "      <th>집화일자</th>\n",
              "      <th>집배일자</th>\n",
              "      <th>운임명</th>\n",
              "      <th>수량(BOX)</th>\n",
              "      <th>운임</th>\n",
              "      <th>집화여부</th>\n",
              "      <th>집배시간</th>\n",
              "      <th>배달일자</th>\n",
              "      <th>장비구분</th>\n",
              "      <th>품목</th>\n",
              "      <th>SM명</th>\n",
              "      <th>받는분주소</th>\n",
              "    </tr>\n",
              "  </thead>\n",
              "  <tbody>\n",
              "    <tr>\n",
              "      <th>0</th>\n",
              "      <td>0</td>\n",
              "      <td>배달</td>\n",
              "      <td>2021-03-02</td>\n",
              "      <td>2021-03-03</td>\n",
              "      <td>신용</td>\n",
              "      <td>1</td>\n",
              "      <td>5000</td>\n",
              "      <td>Y</td>\n",
              "      <td>190148</td>\n",
              "      <td>2021-03-03</td>\n",
              "      <td>스마트폰</td>\n",
              "      <td>식품</td>\n",
              "      <td>57</td>\n",
              "      <td>경기도 화성시 장안면 매바위로366번길 8 (주)BIT범우연구소</td>\n",
              "    </tr>\n",
              "    <tr>\n",
              "      <th>1</th>\n",
              "      <td>1</td>\n",
              "      <td>배달</td>\n",
              "      <td>2021-03-02</td>\n",
              "      <td>2021-03-03</td>\n",
              "      <td>선불</td>\n",
              "      <td>1</td>\n",
              "      <td>3500</td>\n",
              "      <td>Y</td>\n",
              "      <td>190149</td>\n",
              "      <td>2021-03-03</td>\n",
              "      <td>스마트폰</td>\n",
              "      <td>식품</td>\n",
              "      <td>57</td>\n",
              "      <td>경기도 화성시 장안면 버들로</td>\n",
              "    </tr>\n",
              "    <tr>\n",
              "      <th>2</th>\n",
              "      <td>2</td>\n",
              "      <td>배달</td>\n",
              "      <td>2021-03-01</td>\n",
              "      <td>2021-03-02</td>\n",
              "      <td>신용</td>\n",
              "      <td>1</td>\n",
              "      <td>2500</td>\n",
              "      <td>Y</td>\n",
              "      <td>143956</td>\n",
              "      <td>2021-03-02</td>\n",
              "      <td>스마트폰</td>\n",
              "      <td>식품</td>\n",
              "      <td>57</td>\n",
              "      <td>경기도 화성시 장안면 석포리</td>\n",
              "    </tr>\n",
              "  </tbody>\n",
              "</table>\n",
              "</div>"
            ],
            "text/plain": [
              "   Unnamed: 0 구분명       집화일자  ...  품목 SM명                                받는분주소\n",
              "0           0  배달 2021-03-02  ...  식품  57  경기도 화성시 장안면 매바위로366번길 8 (주)BIT범우연구소\n",
              "1           1  배달 2021-03-02  ...  식품  57                      경기도 화성시 장안면 버들로\n",
              "2           2  배달 2021-03-01  ...  식품  57                      경기도 화성시 장안면 석포리\n",
              "\n",
              "[3 rows x 14 columns]"
            ]
          },
          "metadata": {},
          "execution_count": 132
        }
      ]
    },
    {
      "cell_type": "code",
      "metadata": {
        "id": "68pAstgOTas1"
      },
      "source": [
        "df = df_all.drop(['Unnamed: 0', '구분명', '집화일자', '집배일자', '운임명', '집화여부', '집배일자', '장비구분', '품목'], axis=1)"
      ],
      "execution_count": null,
      "outputs": []
    },
    {
      "cell_type": "code",
      "metadata": {
        "colab": {
          "base_uri": "https://localhost:8080/",
          "height": 143
        },
        "id": "a5b2a6zXTyhg",
        "outputId": "c419875f-eeb6-4547-ae31-020b05c301ac"
      },
      "source": [
        "df.head(3)"
      ],
      "execution_count": null,
      "outputs": [
        {
          "output_type": "execute_result",
          "data": {
            "text/html": [
              "<div>\n",
              "<style scoped>\n",
              "    .dataframe tbody tr th:only-of-type {\n",
              "        vertical-align: middle;\n",
              "    }\n",
              "\n",
              "    .dataframe tbody tr th {\n",
              "        vertical-align: top;\n",
              "    }\n",
              "\n",
              "    .dataframe thead th {\n",
              "        text-align: right;\n",
              "    }\n",
              "</style>\n",
              "<table border=\"1\" class=\"dataframe\">\n",
              "  <thead>\n",
              "    <tr style=\"text-align: right;\">\n",
              "      <th></th>\n",
              "      <th>수량(BOX)</th>\n",
              "      <th>운임</th>\n",
              "      <th>집배시간</th>\n",
              "      <th>배달일자</th>\n",
              "      <th>SM명</th>\n",
              "      <th>받는분주소</th>\n",
              "    </tr>\n",
              "  </thead>\n",
              "  <tbody>\n",
              "    <tr>\n",
              "      <th>0</th>\n",
              "      <td>1</td>\n",
              "      <td>5000</td>\n",
              "      <td>190148</td>\n",
              "      <td>2021-03-03</td>\n",
              "      <td>57</td>\n",
              "      <td>경기도 화성시 장안면 매바위로366번길 8 (주)BIT범우연구소</td>\n",
              "    </tr>\n",
              "    <tr>\n",
              "      <th>1</th>\n",
              "      <td>1</td>\n",
              "      <td>3500</td>\n",
              "      <td>190149</td>\n",
              "      <td>2021-03-03</td>\n",
              "      <td>57</td>\n",
              "      <td>경기도 화성시 장안면 버들로</td>\n",
              "    </tr>\n",
              "    <tr>\n",
              "      <th>2</th>\n",
              "      <td>1</td>\n",
              "      <td>2500</td>\n",
              "      <td>143956</td>\n",
              "      <td>2021-03-02</td>\n",
              "      <td>57</td>\n",
              "      <td>경기도 화성시 장안면 석포리</td>\n",
              "    </tr>\n",
              "  </tbody>\n",
              "</table>\n",
              "</div>"
            ],
            "text/plain": [
              "   수량(BOX)    운임    집배시간       배달일자  SM명                                받는분주소\n",
              "0        1  5000  190148 2021-03-03   57  경기도 화성시 장안면 매바위로366번길 8 (주)BIT범우연구소\n",
              "1        1  3500  190149 2021-03-03   57                      경기도 화성시 장안면 버들로\n",
              "2        1  2500  143956 2021-03-02   57                      경기도 화성시 장안면 석포리"
            ]
          },
          "metadata": {},
          "execution_count": 161
        }
      ]
    },
    {
      "cell_type": "markdown",
      "metadata": {
        "id": "rrrkmYvQT6Jc"
      },
      "source": [
        "# SM groupby 로 택배 용량 확인"
      ]
    },
    {
      "cell_type": "code",
      "metadata": {
        "colab": {
          "base_uri": "https://localhost:8080/",
          "height": 455
        },
        "id": "You0TXlzT2xv",
        "outputId": "c5a1b8ef-5381-4a9e-f15e-3868e4c858d7"
      },
      "source": [
        "df_SM = df[['SM명', '배달일자', '수량(BOX)', '운임']].groupby(['SM명', '배달일자']).sum()\n",
        "df_SM['val'] = df_SM['운임'] / df_SM['수량(BOX)']\n",
        "df_SM"
      ],
      "execution_count": null,
      "outputs": [
        {
          "output_type": "execute_result",
          "data": {
            "text/html": [
              "<div>\n",
              "<style scoped>\n",
              "    .dataframe tbody tr th:only-of-type {\n",
              "        vertical-align: middle;\n",
              "    }\n",
              "\n",
              "    .dataframe tbody tr th {\n",
              "        vertical-align: top;\n",
              "    }\n",
              "\n",
              "    .dataframe thead th {\n",
              "        text-align: right;\n",
              "    }\n",
              "</style>\n",
              "<table border=\"1\" class=\"dataframe\">\n",
              "  <thead>\n",
              "    <tr style=\"text-align: right;\">\n",
              "      <th></th>\n",
              "      <th></th>\n",
              "      <th>수량(BOX)</th>\n",
              "      <th>운임</th>\n",
              "      <th>val</th>\n",
              "    </tr>\n",
              "    <tr>\n",
              "      <th>SM명</th>\n",
              "      <th>배달일자</th>\n",
              "      <th></th>\n",
              "      <th></th>\n",
              "      <th></th>\n",
              "    </tr>\n",
              "  </thead>\n",
              "  <tbody>\n",
              "    <tr>\n",
              "      <th rowspan=\"5\" valign=\"top\">0</th>\n",
              "      <th>2021-03-02</th>\n",
              "      <td>80</td>\n",
              "      <td>294500</td>\n",
              "      <td>3681.250000</td>\n",
              "    </tr>\n",
              "    <tr>\n",
              "      <th>2021-03-03</th>\n",
              "      <td>553</td>\n",
              "      <td>2056000</td>\n",
              "      <td>3717.902351</td>\n",
              "    </tr>\n",
              "    <tr>\n",
              "      <th>2021-03-04</th>\n",
              "      <td>564</td>\n",
              "      <td>2093000</td>\n",
              "      <td>3710.992908</td>\n",
              "    </tr>\n",
              "    <tr>\n",
              "      <th>2021-03-05</th>\n",
              "      <td>518</td>\n",
              "      <td>1866000</td>\n",
              "      <td>3602.316602</td>\n",
              "    </tr>\n",
              "    <tr>\n",
              "      <th>2021-03-06</th>\n",
              "      <td>397</td>\n",
              "      <td>1445000</td>\n",
              "      <td>3639.798489</td>\n",
              "    </tr>\n",
              "    <tr>\n",
              "      <th>...</th>\n",
              "      <th>...</th>\n",
              "      <td>...</td>\n",
              "      <td>...</td>\n",
              "      <td>...</td>\n",
              "    </tr>\n",
              "    <tr>\n",
              "      <th rowspan=\"5\" valign=\"top\">282</th>\n",
              "      <th>2021-04-28</th>\n",
              "      <td>23</td>\n",
              "      <td>110500</td>\n",
              "      <td>4804.347826</td>\n",
              "    </tr>\n",
              "    <tr>\n",
              "      <th>2021-05-04</th>\n",
              "      <td>1</td>\n",
              "      <td>5000</td>\n",
              "      <td>5000.000000</td>\n",
              "    </tr>\n",
              "    <tr>\n",
              "      <th>2021-05-11</th>\n",
              "      <td>35</td>\n",
              "      <td>157000</td>\n",
              "      <td>4485.714286</td>\n",
              "    </tr>\n",
              "    <tr>\n",
              "      <th>2021-05-14</th>\n",
              "      <td>48</td>\n",
              "      <td>226500</td>\n",
              "      <td>4718.750000</td>\n",
              "    </tr>\n",
              "    <tr>\n",
              "      <th>2021-05-21</th>\n",
              "      <td>32</td>\n",
              "      <td>160500</td>\n",
              "      <td>5015.625000</td>\n",
              "    </tr>\n",
              "  </tbody>\n",
              "</table>\n",
              "<p>17869 rows × 3 columns</p>\n",
              "</div>"
            ],
            "text/plain": [
              "                수량(BOX)       운임          val\n",
              "SM명 배달일자                                     \n",
              "0   2021-03-02       80   294500  3681.250000\n",
              "    2021-03-03      553  2056000  3717.902351\n",
              "    2021-03-04      564  2093000  3710.992908\n",
              "    2021-03-05      518  1866000  3602.316602\n",
              "    2021-03-06      397  1445000  3639.798489\n",
              "...                 ...      ...          ...\n",
              "282 2021-04-28       23   110500  4804.347826\n",
              "    2021-05-04        1     5000  5000.000000\n",
              "    2021-05-11       35   157000  4485.714286\n",
              "    2021-05-14       48   226500  4718.750000\n",
              "    2021-05-21       32   160500  5015.625000\n",
              "\n",
              "[17869 rows x 3 columns]"
            ]
          },
          "metadata": {},
          "execution_count": 162
        }
      ]
    },
    {
      "cell_type": "code",
      "metadata": {
        "id": "EvzEqOEG5ws2"
      },
      "source": [
        "# df_SM[(0, '2021-03-02')]"
      ],
      "execution_count": null,
      "outputs": []
    },
    {
      "cell_type": "code",
      "metadata": {
        "colab": {
          "base_uri": "https://localhost:8080/"
        },
        "id": "9P87TmTqZSoc",
        "outputId": "14e51460-f4d4-447d-b0af-99e747361b43"
      },
      "source": [
        "df_SM.index"
      ],
      "execution_count": null,
      "outputs": [
        {
          "output_type": "execute_result",
          "data": {
            "text/plain": [
              "MultiIndex([(  0, '2021-03-02'),\n",
              "            (  0, '2021-03-03'),\n",
              "            (  0, '2021-03-04'),\n",
              "            (  0, '2021-03-05'),\n",
              "            (  0, '2021-03-06'),\n",
              "            (  0, '2021-03-08'),\n",
              "            (  0, '2021-03-09'),\n",
              "            (  0, '2021-03-10'),\n",
              "            (  0, '2021-03-11'),\n",
              "            (  0, '2021-03-12'),\n",
              "            ...\n",
              "            (282, '2021-04-16'),\n",
              "            (282, '2021-04-20'),\n",
              "            (282, '2021-04-22'),\n",
              "            (282, '2021-04-26'),\n",
              "            (282, '2021-04-27'),\n",
              "            (282, '2021-04-28'),\n",
              "            (282, '2021-05-04'),\n",
              "            (282, '2021-05-11'),\n",
              "            (282, '2021-05-14'),\n",
              "            (282, '2021-05-21')],\n",
              "           names=['SM명', '배달일자'], length=17869)"
            ]
          },
          "metadata": {},
          "execution_count": 164
        }
      ]
    },
    {
      "cell_type": "code",
      "metadata": {
        "id": "4g66wNUIVkih",
        "colab": {
          "base_uri": "https://localhost:8080/",
          "height": 575
        },
        "outputId": "f57d89ce-9a16-47ca-c8ee-e64db82e7a09"
      },
      "source": [
        "import matplotlib.pyplot as plt\n",
        "\n",
        "df_SM.plot(figsize=(30,10), kind='bar', y='val')\n",
        "plt.axis('off')\n",
        "plt.show()"
      ],
      "execution_count": null,
      "outputs": [
        {
          "output_type": "display_data",
          "data": {
            "image/png": "[encoded data removed]",
            "text/plain": [
              "<Figure size 2160x720 with 1 Axes>"
            ]
          },
          "metadata": {
            "needs_background": "light"
          }
        }
      ]
    },
    {
      "cell_type": "code",
      "metadata": {
        "id": "Iw1ehVLf8TPz",
        "colab": {
          "base_uri": "https://localhost:8080/",
          "height": 143
        },
        "outputId": "6137d997-8b20-48a8-c94e-27b3e5de7998"
      },
      "source": [
        "df.head(3)"
      ],
      "execution_count": null,
      "outputs": [
        {
          "output_type": "execute_result",
          "data": {
            "text/html": [
              "<div>\n",
              "<style scoped>\n",
              "    .dataframe tbody tr th:only-of-type {\n",
              "        vertical-align: middle;\n",
              "    }\n",
              "\n",
              "    .dataframe tbody tr th {\n",
              "        vertical-align: top;\n",
              "    }\n",
              "\n",
              "    .dataframe thead th {\n",
              "        text-align: right;\n",
              "    }\n",
              "</style>\n",
              "<table border=\"1\" class=\"dataframe\">\n",
              "  <thead>\n",
              "    <tr style=\"text-align: right;\">\n",
              "      <th></th>\n",
              "      <th>수량(BOX)</th>\n",
              "      <th>운임</th>\n",
              "      <th>집배시간</th>\n",
              "      <th>배달일자</th>\n",
              "      <th>SM명</th>\n",
              "      <th>받는분주소</th>\n",
              "    </tr>\n",
              "  </thead>\n",
              "  <tbody>\n",
              "    <tr>\n",
              "      <th>0</th>\n",
              "      <td>1</td>\n",
              "      <td>5000</td>\n",
              "      <td>190148</td>\n",
              "      <td>2021-03-03</td>\n",
              "      <td>57</td>\n",
              "      <td>경기도 화성시 장안면 매바위로366번길 8 (주)BIT범우연구소</td>\n",
              "    </tr>\n",
              "    <tr>\n",
              "      <th>1</th>\n",
              "      <td>1</td>\n",
              "      <td>3500</td>\n",
              "      <td>190149</td>\n",
              "      <td>2021-03-03</td>\n",
              "      <td>57</td>\n",
              "      <td>경기도 화성시 장안면 버들로</td>\n",
              "    </tr>\n",
              "    <tr>\n",
              "      <th>2</th>\n",
              "      <td>1</td>\n",
              "      <td>2500</td>\n",
              "      <td>143956</td>\n",
              "      <td>2021-03-02</td>\n",
              "      <td>57</td>\n",
              "      <td>경기도 화성시 장안면 석포리</td>\n",
              "    </tr>\n",
              "  </tbody>\n",
              "</table>\n",
              "</div>"
            ],
            "text/plain": [
              "   수량(BOX)    운임    집배시간       배달일자  SM명                                받는분주소\n",
              "0        1  5000  190148 2021-03-03   57  경기도 화성시 장안면 매바위로366번길 8 (주)BIT범우연구소\n",
              "1        1  3500  190149 2021-03-03   57                      경기도 화성시 장안면 버들로\n",
              "2        1  2500  143956 2021-03-02   57                      경기도 화성시 장안면 석포리"
            ]
          },
          "metadata": {},
          "execution_count": 166
        }
      ]
    },
    {
      "cell_type": "code",
      "metadata": {
        "id": "BeKC82IvWxkp"
      },
      "source": [
        "import re\n",
        "\n",
        "def if_integer(string):\n",
        "    if bool(re.search(r'(\\d+)\\s*-\\s*(\\d+)', string)) or bool(re.search(r'(\\d+)', string)):\n",
        "        return True\n",
        "    return False"
      ],
      "execution_count": null,
      "outputs": []
    },
    {
      "cell_type": "code",
      "metadata": {
        "id": "Bu-0gLD53l1k"
      },
      "source": [
        "df = df.dropna(axis = 0)"
      ],
      "execution_count": null,
      "outputs": []
    },
    {
      "cell_type": "code",
      "metadata": {
        "colab": {
          "base_uri": "https://localhost:8080/",
          "height": 424
        },
        "id": "a5Sdjzgf7jHn",
        "outputId": "774eebd1-f5e7-4662-9872-965c8cfef6dc"
      },
      "source": [
        "df = df[df.받는분주소.apply(if_integer)]\n",
        "df"
      ],
      "execution_count": null,
      "outputs": [
        {
          "output_type": "execute_result",
          "data": {
            "text/html": [
              "<div>\n",
              "<style scoped>\n",
              "    .dataframe tbody tr th:only-of-type {\n",
              "        vertical-align: middle;\n",
              "    }\n",
              "\n",
              "    .dataframe tbody tr th {\n",
              "        vertical-align: top;\n",
              "    }\n",
              "\n",
              "    .dataframe thead th {\n",
              "        text-align: right;\n",
              "    }\n",
              "</style>\n",
              "<table border=\"1\" class=\"dataframe\">\n",
              "  <thead>\n",
              "    <tr style=\"text-align: right;\">\n",
              "      <th></th>\n",
              "      <th>수량(BOX)</th>\n",
              "      <th>운임</th>\n",
              "      <th>집배시간</th>\n",
              "      <th>배달일자</th>\n",
              "      <th>SM명</th>\n",
              "      <th>받는분주소</th>\n",
              "    </tr>\n",
              "  </thead>\n",
              "  <tbody>\n",
              "    <tr>\n",
              "      <th>0</th>\n",
              "      <td>1</td>\n",
              "      <td>5000</td>\n",
              "      <td>190148</td>\n",
              "      <td>2021-03-03</td>\n",
              "      <td>57</td>\n",
              "      <td>경기도 화성시 장안면 매바위로366번길 8 (주)BIT범우연구소</td>\n",
              "    </tr>\n",
              "    <tr>\n",
              "      <th>3</th>\n",
              "      <td>1</td>\n",
              "      <td>3500</td>\n",
              "      <td>180605</td>\n",
              "      <td>2021-03-04</td>\n",
              "      <td>57</td>\n",
              "      <td>경기도 화성시 장안면 매바위로 347</td>\n",
              "    </tr>\n",
              "    <tr>\n",
              "      <th>5</th>\n",
              "      <td>1</td>\n",
              "      <td>3500</td>\n",
              "      <td>175052</td>\n",
              "      <td>2021-03-05</td>\n",
              "      <td>57</td>\n",
              "      <td>경기도 화성시 장안면 버들로 1232-4</td>\n",
              "    </tr>\n",
              "    <tr>\n",
              "      <th>7</th>\n",
              "      <td>1</td>\n",
              "      <td>5000</td>\n",
              "      <td>121446</td>\n",
              "      <td>2021-03-08</td>\n",
              "      <td>57</td>\n",
              "      <td>경기 화성시 장안면 무봉길 200-6</td>\n",
              "    </tr>\n",
              "    <tr>\n",
              "      <th>8</th>\n",
              "      <td>1</td>\n",
              "      <td>5000</td>\n",
              "      <td>180605</td>\n",
              "      <td>2021-03-04</td>\n",
              "      <td>57</td>\n",
              "      <td>경기도 화성시 장안면 소개무골길 66-10</td>\n",
              "    </tr>\n",
              "    <tr>\n",
              "      <th>...</th>\n",
              "      <td>...</td>\n",
              "      <td>...</td>\n",
              "      <td>...</td>\n",
              "      <td>...</td>\n",
              "      <td>...</td>\n",
              "      <td>...</td>\n",
              "    </tr>\n",
              "    <tr>\n",
              "      <th>42</th>\n",
              "      <td>1</td>\n",
              "      <td>5000</td>\n",
              "      <td>125225</td>\n",
              "      <td>2021-05-31</td>\n",
              "      <td>157</td>\n",
              "      <td>경기 오산시 오산동 923-2번지 운암대동황토방아파트 황토방아파트</td>\n",
              "    </tr>\n",
              "    <tr>\n",
              "      <th>44</th>\n",
              "      <td>1</td>\n",
              "      <td>3500</td>\n",
              "      <td>140930</td>\n",
              "      <td>2021-05-31</td>\n",
              "      <td>177</td>\n",
              "      <td>경기도 오산시 부산중앙로 11 (부산동, 시티자이 1단지) 시티자이</td>\n",
              "    </tr>\n",
              "    <tr>\n",
              "      <th>45</th>\n",
              "      <td>1</td>\n",
              "      <td>2500</td>\n",
              "      <td>124826</td>\n",
              "      <td>2021-05-31</td>\n",
              "      <td>52</td>\n",
              "      <td>경기도 화성시 봉담읍 상리1길 127 (봉담읍) 이편한세상 신봉담아파트</td>\n",
              "    </tr>\n",
              "    <tr>\n",
              "      <th>46</th>\n",
              "      <td>1</td>\n",
              "      <td>2500</td>\n",
              "      <td>91844</td>\n",
              "      <td>2021-05-31</td>\n",
              "      <td>39</td>\n",
              "      <td>경기도 화성시 향남읍 행정동로 22</td>\n",
              "    </tr>\n",
              "    <tr>\n",
              "      <th>47</th>\n",
              "      <td>1</td>\n",
              "      <td>3500</td>\n",
              "      <td>113159</td>\n",
              "      <td>2021-05-18</td>\n",
              "      <td>25</td>\n",
              "      <td>경기도 화성시 향남읍 벌말길 16</td>\n",
              "    </tr>\n",
              "  </tbody>\n",
              "</table>\n",
              "<p>4037724 rows × 6 columns</p>\n",
              "</div>"
            ],
            "text/plain": [
              "    수량(BOX)    운임  ...  SM명                                    받는분주소\n",
              "0         1  5000  ...   57      경기도 화성시 장안면 매바위로366번길 8 (주)BIT범우연구소\n",
              "3         1  3500  ...   57                     경기도 화성시 장안면 매바위로 347\n",
              "5         1  3500  ...   57                   경기도 화성시 장안면 버들로 1232-4\n",
              "7         1  5000  ...   57                     경기 화성시 장안면 무봉길 200-6\n",
              "8         1  5000  ...   57                  경기도 화성시 장안면 소개무골길 66-10\n",
              "..      ...   ...  ...  ...                                      ...\n",
              "42        1  5000  ...  157     경기 오산시 오산동 923-2번지 운암대동황토방아파트 황토방아파트\n",
              "44        1  3500  ...  177    경기도 오산시 부산중앙로 11 (부산동, 시티자이 1단지) 시티자이\n",
              "45        1  2500  ...   52  경기도 화성시 봉담읍 상리1길 127 (봉담읍) 이편한세상 신봉담아파트\n",
              "46        1  2500  ...   39                      경기도 화성시 향남읍 행정동로 22\n",
              "47        1  3500  ...   25                       경기도 화성시 향남읍 벌말길 16\n",
              "\n",
              "[4037724 rows x 6 columns]"
            ]
          },
          "metadata": {},
          "execution_count": 169
        }
      ]
    },
    {
      "cell_type": "markdown",
      "metadata": {
        "id": "YsvyczDSaQEi"
      },
      "source": [
        "#사용가능한 주소 추출"
      ]
    },
    {
      "cell_type": "code",
      "metadata": {
        "id": "5kTvVL-5SYxL"
      },
      "source": [
        "def remwithre(text, there=re.compile(re.escape('(')+'.*')):\n",
        "  return there.sub('', text)"
      ],
      "execution_count": null,
      "outputs": []
    },
    {
      "cell_type": "code",
      "metadata": {
        "colab": {
          "base_uri": "https://localhost:8080/",
          "height": 424
        },
        "id": "_QVwXWFwTvIZ",
        "outputId": "a796f60c-81dc-461c-f872-63dff3507665"
      },
      "source": [
        "df['받는분주소'] = df['받는분주소'].apply(remwithre)\n",
        "df"
      ],
      "execution_count": null,
      "outputs": [
        {
          "output_type": "execute_result",
          "data": {
            "text/html": [
              "<div>\n",
              "<style scoped>\n",
              "    .dataframe tbody tr th:only-of-type {\n",
              "        vertical-align: middle;\n",
              "    }\n",
              "\n",
              "    .dataframe tbody tr th {\n",
              "        vertical-align: top;\n",
              "    }\n",
              "\n",
              "    .dataframe thead th {\n",
              "        text-align: right;\n",
              "    }\n",
              "</style>\n",
              "<table border=\"1\" class=\"dataframe\">\n",
              "  <thead>\n",
              "    <tr style=\"text-align: right;\">\n",
              "      <th></th>\n",
              "      <th>수량(BOX)</th>\n",
              "      <th>운임</th>\n",
              "      <th>집배시간</th>\n",
              "      <th>배달일자</th>\n",
              "      <th>SM명</th>\n",
              "      <th>받는분주소</th>\n",
              "    </tr>\n",
              "  </thead>\n",
              "  <tbody>\n",
              "    <tr>\n",
              "      <th>0</th>\n",
              "      <td>1</td>\n",
              "      <td>5000</td>\n",
              "      <td>190148</td>\n",
              "      <td>2021-03-03</td>\n",
              "      <td>57</td>\n",
              "      <td>경기도 화성시 장안면 매바위로366번길 8</td>\n",
              "    </tr>\n",
              "    <tr>\n",
              "      <th>3</th>\n",
              "      <td>1</td>\n",
              "      <td>3500</td>\n",
              "      <td>180605</td>\n",
              "      <td>2021-03-04</td>\n",
              "      <td>57</td>\n",
              "      <td>경기도 화성시 장안면 매바위로 347</td>\n",
              "    </tr>\n",
              "    <tr>\n",
              "      <th>5</th>\n",
              "      <td>1</td>\n",
              "      <td>3500</td>\n",
              "      <td>175052</td>\n",
              "      <td>2021-03-05</td>\n",
              "      <td>57</td>\n",
              "      <td>경기도 화성시 장안면 버들로 1232-4</td>\n",
              "    </tr>\n",
              "    <tr>\n",
              "      <th>7</th>\n",
              "      <td>1</td>\n",
              "      <td>5000</td>\n",
              "      <td>121446</td>\n",
              "      <td>2021-03-08</td>\n",
              "      <td>57</td>\n",
              "      <td>경기 화성시 장안면 무봉길 200-6</td>\n",
              "    </tr>\n",
              "    <tr>\n",
              "      <th>8</th>\n",
              "      <td>1</td>\n",
              "      <td>5000</td>\n",
              "      <td>180605</td>\n",
              "      <td>2021-03-04</td>\n",
              "      <td>57</td>\n",
              "      <td>경기도 화성시 장안면 소개무골길 66-10</td>\n",
              "    </tr>\n",
              "    <tr>\n",
              "      <th>...</th>\n",
              "      <td>...</td>\n",
              "      <td>...</td>\n",
              "      <td>...</td>\n",
              "      <td>...</td>\n",
              "      <td>...</td>\n",
              "      <td>...</td>\n",
              "    </tr>\n",
              "    <tr>\n",
              "      <th>42</th>\n",
              "      <td>1</td>\n",
              "      <td>5000</td>\n",
              "      <td>125225</td>\n",
              "      <td>2021-05-31</td>\n",
              "      <td>157</td>\n",
              "      <td>경기 오산시 오산동 923-2번지 운암대동황토방아파트 황토방아파트</td>\n",
              "    </tr>\n",
              "    <tr>\n",
              "      <th>44</th>\n",
              "      <td>1</td>\n",
              "      <td>3500</td>\n",
              "      <td>140930</td>\n",
              "      <td>2021-05-31</td>\n",
              "      <td>177</td>\n",
              "      <td>경기도 오산시 부산중앙로 11</td>\n",
              "    </tr>\n",
              "    <tr>\n",
              "      <th>45</th>\n",
              "      <td>1</td>\n",
              "      <td>2500</td>\n",
              "      <td>124826</td>\n",
              "      <td>2021-05-31</td>\n",
              "      <td>52</td>\n",
              "      <td>경기도 화성시 봉담읍 상리1길 127</td>\n",
              "    </tr>\n",
              "    <tr>\n",
              "      <th>46</th>\n",
              "      <td>1</td>\n",
              "      <td>2500</td>\n",
              "      <td>91844</td>\n",
              "      <td>2021-05-31</td>\n",
              "      <td>39</td>\n",
              "      <td>경기도 화성시 향남읍 행정동로 22</td>\n",
              "    </tr>\n",
              "    <tr>\n",
              "      <th>47</th>\n",
              "      <td>1</td>\n",
              "      <td>3500</td>\n",
              "      <td>113159</td>\n",
              "      <td>2021-05-18</td>\n",
              "      <td>25</td>\n",
              "      <td>경기도 화성시 향남읍 벌말길 16</td>\n",
              "    </tr>\n",
              "  </tbody>\n",
              "</table>\n",
              "<p>4037724 rows × 6 columns</p>\n",
              "</div>"
            ],
            "text/plain": [
              "    수량(BOX)    운임    집배시간       배달일자  SM명                                 받는분주소\n",
              "0         1  5000  190148 2021-03-03   57              경기도 화성시 장안면 매바위로366번길 8 \n",
              "3         1  3500  180605 2021-03-04   57                  경기도 화성시 장안면 매바위로 347\n",
              "5         1  3500  175052 2021-03-05   57                경기도 화성시 장안면 버들로 1232-4\n",
              "7         1  5000  121446 2021-03-08   57                  경기 화성시 장안면 무봉길 200-6\n",
              "8         1  5000  180605 2021-03-04   57               경기도 화성시 장안면 소개무골길 66-10\n",
              "..      ...   ...     ...        ...  ...                                   ...\n",
              "42        1  5000  125225 2021-05-31  157  경기 오산시 오산동 923-2번지 운암대동황토방아파트 황토방아파트\n",
              "44        1  3500  140930 2021-05-31  177                     경기도 오산시 부산중앙로 11 \n",
              "45        1  2500  124826 2021-05-31   52                 경기도 화성시 봉담읍 상리1길 127 \n",
              "46        1  2500   91844 2021-05-31   39                   경기도 화성시 향남읍 행정동로 22\n",
              "47        1  3500  113159 2021-05-18   25                    경기도 화성시 향남읍 벌말길 16\n",
              "\n",
              "[4037724 rows x 6 columns]"
            ]
          },
          "metadata": {},
          "execution_count": 173
        }
      ]
    },
    {
      "cell_type": "code",
      "metadata": {
        "id": "lexOLBdzq4dh"
      },
      "source": [
        ""
      ],
      "execution_count": null,
      "outputs": []
    }
  ]
}