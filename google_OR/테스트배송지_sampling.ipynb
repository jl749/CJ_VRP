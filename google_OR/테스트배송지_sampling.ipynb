{
  "nbformat": 4,
  "nbformat_minor": 0,
  "metadata": {
    "colab": {
      "name": "Untitled0.ipynb",
      "provenance": []
    },
    "kernelspec": {
      "name": "python3",
      "display_name": "Python 3"
    },
    "language_info": {
      "name": "python"
    }
  },
  "cells": [
    {
      "cell_type": "code",
      "metadata": {
        "id": "EcRgLBi5boIC"
      },
      "source": [
        "import pandas as pd\n",
        "from urllib.parse import quote_plus, urlencode\n",
        "from urllib.request import urlopen, Request\n",
        "import json\n",
        "import random\n",
        "\n",
        "def jusoAPI(keystr):\n",
        "    if '오산시' in keystr:\n",
        "        return None\n",
        "    if type(keystr) == str:\n",
        "        key_list = list(keystr.split())\n",
        "    else:\n",
        "        return None\n",
        "    for i in range(len(key_list), 3, -1):\n",
        "        addr = ' '.join(key_list[:i])\n",
        "        url = 'http://www.juso.go.kr/addrlink/addrLinkApi.do'\n",
        "        queryParams = '?' + urlencode(\n",
        "            {quote_plus('currentPage'): '1', quote_plus('countPerPage'): '6', quote_plus('resultType'): 'json',\n",
        "            quote_plus('keyword'): addr, quote_plus('confmKey'): 'devU01TX0FVVEgyMDIxMTAwMjIzNDkxMzExMTcxNDg='})\n",
        "        while True:\n",
        "            try:\n",
        "                request = Request(url + queryParams)\n",
        "                request.get_method = lambda: 'GET'  # default GET anyway\n",
        "                response_body = urlopen(request).read()\n",
        "                break\n",
        "            except:\n",
        "                continue\n",
        "\n",
        "        root_json = json.loads(response_body)\n",
        "        total = int(root_json['results']['common']['totalCount'])\n",
        "        if total == 0:\n",
        "            return None\n",
        "        elif total == 1:\n",
        "            ad = root_json['results']['juso'][0]\n",
        "            return ad['roadAddr']  # ['detBdNmList']\n",
        "        else:\n",
        "            num = total if total < 6 else 6\n",
        "            ad = root_json['results']['juso'][random.randint(0, num-1)]\n",
        "            return ad['roadAddr']\n",
        "\n",
        "\n",
        "def date_change(date):\n",
        "    new_date = date[:4] + date[5:7] + date[8:]\n",
        "    return int(new_date)\n",
        "\n",
        "\n",
        "df_all = pd.read_csv('./df_all.csv')\n",
        "df = df_all.drop(['Unnamed: 0', 'Unnamed: 0.1', '구분명', '집화일자', '집배일자', '운임명', '집화여부', '집배일자', '장비구분', '품목'], axis=1)\n",
        "df = df[['배달일자', 'SM명', '수량(BOX)', '운임', '집배시간', '받는분주소']]\n",
        "df = df.dropna(axis = 0)\n",
        "df.배달일자 = df.배달일자.apply(date_change)\n",
        "df_sorted = df.sort_values(by=['배달일자', 'SM명'], ascending=True)\n",
        "postman = len(df_sorted[df_sorted.배달일자 == 20210302].SM명.value_counts().unique())\n",
        "df_210302 = df_sorted[df_sorted.배달일자 == 20210302]\n",
        "df_210302.loc[:, '받는분주소'] = df_210302.loc[:, '받는분주소'].apply(jusoAPI)\n",
        "df_210302 = df_210302.dropna(axis=0)\n",
        "df_210302.to_csv(f\"20210302_{postman}명4.csv\")"
      ],
      "execution_count": null,
      "outputs": []
    },
    {
      "cell_type": "code",
      "metadata": {
        "id": "iQ2e9ZUiFqY3"
      },
      "source": [
        "df_new = df_210302.sample(n=300, random_state=45)\n",
        "df_new.drop('Unnamed: 0',axis=1, inplace=True)\n",
        "df_new = df_new.loc[:, '받는분주소']\n",
        "df_new.reset_index(drop=True, inplace=True)\n",
        "df_new.to_csv(\"addr300.csv\")"
      ],
      "execution_count": null,
      "outputs": []
    }
  ]
}